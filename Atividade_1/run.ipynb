{
 "cells": [
  {
   "cell_type": "code",
   "execution_count": 1,
   "metadata": {},
   "outputs": [
    {
     "name": "stderr",
     "output_type": "stream",
     "text": [
      "100%|██████████| 10000/10000 [00:00<00:00, 15201.42it/s]\n",
      "100%|██████████| 10000/10000 [04:10<00:00, 40.00it/s]"
     ]
    },
    {
     "name": "stdout",
     "output_type": "stream",
     "text": [
      "\n",
      "Teste concluído: 10000 textos processados\n",
      "Erros de decodificação: 0\n",
      "Tempo total: 251.41 segundos\n"
     ]
    },
    {
     "name": "stderr",
     "output_type": "stream",
     "text": [
      "\n"
     ]
    }
   ],
   "source": [
    "from tester import TokenizerTester\n",
    "from tatiktoken import Tokenizer\n",
    "\n",
    "folder_path = \"./corpus\"\n",
    "\n",
    "tokenizer = Tokenizer()\n",
    "tester = TokenizerTester(tokenizer, folder_path)\n",
    "\n",
    "errors = tester.test_tokenizer(verbose=False)"
   ]
  }
 ],
 "metadata": {
  "kernelspec": {
   "display_name": "venv",
   "language": "python",
   "name": "python3"
  },
  "language_info": {
   "codemirror_mode": {
    "name": "ipython",
    "version": 3
   },
   "file_extension": ".py",
   "mimetype": "text/x-python",
   "name": "python",
   "nbconvert_exporter": "python",
   "pygments_lexer": "ipython3",
   "version": "3.10.12"
  }
 },
 "nbformat": 4,
 "nbformat_minor": 2
}
